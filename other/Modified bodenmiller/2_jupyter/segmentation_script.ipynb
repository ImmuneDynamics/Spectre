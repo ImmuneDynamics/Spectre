{
 "cells": [
  {
   "cell_type": "markdown",
   "metadata": {},
   "source": [
    "# Sydney Cytometry - Multicut segmentation with Ilastilk\n",
    "\n",
    "\n",
    "#### Author\n",
    "Dr. Thomas Myles Ashhurst (thomas.ashhurst@sydney.edu.au). Sydney Cytometry Facility, The Univeristy of Sydney and Centenary Institute.\n",
    "\n",
    "#### Acknowledgements\n",
    "This script and overall workflow are adapted from the script and workflow developed by Vito Zanotelli at the Bodenmiller laboratory (https://github.com/BodenmillerGroup/ImcSegmentationPipeline).\n",
    "\n",
    "#### Description\n",
    "This script is part of a modified pipeline for cell-segmentation of IMC data (based on the pipeline developed by the Bodenmiller lab). This script comprises 'Step 2' of the whole workflow. For instructions that cover the whole workflow, please visit https://wiki.centenary.org.au/x/kYBfCQ.\n",
    "\n",
    "Please note, the full instruction set is provided on the Sydney Cytometry extranet site, which requires a log in to access. To gain access, please visit https://sydneycytometry.org.au/wiki-launch and hit the 'request access' button to get a login. Once you have a login, you can access the protocol page above.\n",
    "\n",
    "#### Overview of the script\n",
    "1. Follow the instructions in the 'user input' section to setup the script for your analysis. Modify the blocks as instructed, and then ***run*** the code block.\n",
    "2. Once you have reached the end of the 'user input' section, ***run*** the subsequent code blocks to generate the output files. Run each block one by one, and keep an eye out for any instructions for checking outputs, or for any error messages that come up."
   ]
  },
  {
   "cell_type": "markdown",
   "metadata": {},
   "source": [
    "## User input ------------------------------------------------------------------------------------"
   ]
  },
  {
   "cell_type": "markdown",
   "metadata": {},
   "source": [
    "### Import (i.e. load) necessary packages, including packages from 'IMC tools'"
   ]
  },
  {
   "cell_type": "code",
   "execution_count": 13,
   "metadata": {},
   "outputs": [],
   "source": [
    "import os\n",
    "import logging\n",
    "import re\n",
    "import zipfile"
   ]
  },
  {
   "cell_type": "code",
   "execution_count": 14,
   "metadata": {},
   "outputs": [],
   "source": [
    "from imctools.scripts import ometiff2analysis\n",
    "from imctools.scripts import imc2tiff\n",
    "from imctools.scripts import ome2micat\n",
    "from imctools.scripts import probablity2uncertainty\n",
    "from imctools.scripts import convertfolder2imcfolder\n",
    "from imctools.scripts import exportacquisitioncsv"
   ]
  },
  {
   "cell_type": "markdown",
   "metadata": {},
   "source": [
    "### Configuration (needs to be adapted for use)\n",
    "1. Change the text in ***red*** (right of the '=') to reflect the correct folder, file, or column names/patterns. Do not modify the black text (left of the '='). \n",
    "2. Once the edits have been made, run this code block to create variables that contain the name of various important folders, files, or column names."
   ]
  },
  {
   "cell_type": "markdown",
   "metadata": {},
   "source": [
    "**Before we begin, let's check out current working directory.**\n",
    "\n",
    "Running the following code block should return the location of this script (which is your current working directory). By default this should be in the 'scripts' folder of your experiment folder.\n",
    "\n",
    "For example, if my experiment folder is called ````TA123```` and it is located on my ````Desktop````, then the working directory might look like this (on a MacBook): ````/Users/thomasa/Desktop/TA123/scripts````."
   ]
  },
  {
   "cell_type": "code",
   "execution_count": 15,
   "metadata": {},
   "outputs": [
    {
     "data": {
      "text/plain": [
       "'/Users/thomasa/OneDrive - The University of Sydney (Staff)/Library/Github (public)/SpectreMAP/workflows/Multicut segmentation/2_jupyter_script'"
      ]
     },
     "execution_count": 15,
     "metadata": {},
     "output_type": "execute_result"
    }
   ],
   "source": [
    "os.getcwd()"
   ]
  },
  {
   "cell_type": "markdown",
   "metadata": {},
   "source": [
    "**Firstly, we must definte the location of the input data, the pattern of the file type that will be read in, and the location of the panel CSV file.**\n",
    "\n",
    "By default this script is stored under the 'scripts' folder within your experiment folder. To tell python where to find other folders, '..' tells python to look in the parent directory, and '/foldername' tells it to look in another folder.\n",
    "\n",
    "1. Input folders -- this is the location of the folder that ***contains*** the zipped folder of MCD files and text files. By default, this should be in the 'data' folder.\n",
    "\n",
    "2. File regular expression -- this is the file type that python will look for in the data folder (specified above) -- the MCD files and corresponding ROI text files should be zipped into a single folder.\n",
    "\n",
    "3. Folder base -- this instructs python to create a folder called 'output' where it will deposit the resulting files.\n",
    "\n",
    "4. Panel -- here we need to tell the script where to find the 'panel.csv' file, which by default, should be contained in the 'config' folder. "
   ]
  },
  {
   "cell_type": "code",
   "execution_count": 16,
   "metadata": {},
   "outputs": [],
   "source": [
    "# 1) input folders\n",
    "folders = ['../data']\n",
    "\n",
    "# 2) file_regexp:\n",
    "file_regexp = '.*.zip'\n",
    "\n",
    "# 3) folder_base\n",
    "folder_base = '../output'\n",
    "\n",
    "# 4) panel\n",
    "csv_pannel = '../1_panel/panel.csv'"
   ]
  },
  {
   "cell_type": "markdown",
   "metadata": {},
   "source": [
    "Once you have edited and run the code block above, run each of the code blocks below to ensure the variables have been correctly assigned."
   ]
  },
  {
   "cell_type": "code",
   "execution_count": 17,
   "metadata": {},
   "outputs": [
    {
     "data": {
      "text/plain": [
       "['../data']"
      ]
     },
     "execution_count": 17,
     "metadata": {},
     "output_type": "execute_result"
    }
   ],
   "source": [
    "folders"
   ]
  },
  {
   "cell_type": "code",
   "execution_count": 18,
   "metadata": {},
   "outputs": [
    {
     "data": {
      "text/plain": [
       "'.*.zip'"
      ]
     },
     "execution_count": 18,
     "metadata": {},
     "output_type": "execute_result"
    }
   ],
   "source": [
    "file_regexp"
   ]
  },
  {
   "cell_type": "code",
   "execution_count": 19,
   "metadata": {},
   "outputs": [
    {
     "data": {
      "text/plain": [
       "'../output'"
      ]
     },
     "execution_count": 19,
     "metadata": {},
     "output_type": "execute_result"
    }
   ],
   "source": [
    "folder_base"
   ]
  },
  {
   "cell_type": "code",
   "execution_count": 20,
   "metadata": {},
   "outputs": [
    {
     "data": {
      "text/plain": [
       "'../1_panel/panel.csv'"
      ]
     },
     "execution_count": 20,
     "metadata": {},
     "output_type": "execute_result"
    }
   ],
   "source": [
    "csv_pannel"
   ]
  },
  {
   "cell_type": "markdown",
   "metadata": {},
   "source": [
    "**Secondly, we must define the columns contained within the panel CSV file.**"
   ]
  },
  {
   "cell_type": "code",
   "execution_count": 21,
   "metadata": {},
   "outputs": [],
   "source": [
    "# Three columns are obligatory\n",
    "    \n",
    "    # metal columns\n",
    "    csv_pannel_metal = 'Metal Tag' # Contains the isotope channel measured in the form (Metal)(Mass), e.g. Ir191, Yb171 etc.\n",
    "\n",
    "    # ilastik columm: Bool, either 0 or 1: this selects channels to be used for cellular segmentation\n",
    "    csv_pannel_ilastik = 'ilastik' \n",
    "\n",
    "    # full column: Contains the channels that should be quantified/measured in cellprofiler\n",
    "    csv_pannel_full = 'full'"
   ]
  },
  {
   "cell_type": "markdown",
   "metadata": {},
   "source": [
    "Once you have edited and run the code block above, run each of the code blocks below to ensure the variables have been correctly assigned."
   ]
  },
  {
   "cell_type": "code",
   "execution_count": 22,
   "metadata": {},
   "outputs": [
    {
     "data": {
      "text/plain": [
       "'Metal Tag'"
      ]
     },
     "execution_count": 22,
     "metadata": {},
     "output_type": "execute_result"
    }
   ],
   "source": [
    "csv_pannel_metal"
   ]
  },
  {
   "cell_type": "code",
   "execution_count": 23,
   "metadata": {},
   "outputs": [
    {
     "data": {
      "text/plain": [
       "'ilastik'"
      ]
     },
     "execution_count": 23,
     "metadata": {},
     "output_type": "execute_result"
    }
   ],
   "source": [
    "csv_pannel_ilastik"
   ]
  },
  {
   "cell_type": "code",
   "execution_count": 24,
   "metadata": {},
   "outputs": [
    {
     "data": {
      "text/plain": [
       "'full'"
      ]
     },
     "execution_count": 24,
     "metadata": {},
     "output_type": "execute_result"
    }
   ],
   "source": [
    "csv_pannel_full"
   ]
  },
  {
   "cell_type": "markdown",
   "metadata": {},
   "source": [
    "## End user input ------------------------------------------------------------------------------------\n",
    "Do not modify any of the code blocks below. Rather, run each block one by one."
   ]
  },
  {
   "cell_type": "markdown",
   "metadata": {},
   "source": [
    "### Create other input variables (only change if really necessary and you know what your doing)"
   ]
  },
  {
   "cell_type": "code",
   "execution_count": 27,
   "metadata": {},
   "outputs": [],
   "source": [
    "# parameters for resizing the images for ilastik\n",
    "folder_analysis = os.path.join(folder_base, 'tiffs')\n",
    "folder_ilastik = os.path.join(folder_base, 'ilastik')\n",
    "folder_ome = os.path.join(folder_base, 'ometiff')\n",
    "folder_cp = os.path.join(folder_base, 'cpout')\n",
    "folder_histocat = os.path.join(folder_base, 'histocat')\n",
    "folder_uncertainty = os.path.join(folder_base, 'uncertainty')\n",
    "\n",
    "suffix_full = '_full'\n",
    "suffix_ilastik = '_ilastik'\n",
    "suffix_ilastik_scale = '_s2'\n",
    "suffix_mask = '_mask.tiff'\n",
    "suffix_probablities = '_Probabilities'\n",
    "\n",
    "\n",
    "failed_images = list()\n",
    "\n",
    "# Make a list of all the analysis stacks with format:\n",
    "# (CSV_NAME, SUFFIX, ADDSUM)\n",
    "# CSV_NAME: name of the column in the CSV to be used\n",
    "# SUFFIX: suffix of the tiff\n",
    "# ADDSUM: BOOL, should the sum of all channels be added as the first channel?\n",
    "list_analysis_stacks =[\n",
    "    (csv_pannel_ilastik, suffix_ilastik, 1),\n",
    "    (csv_pannel_full, suffix_full, 0)\n",
    "]"
   ]
  },
  {
   "cell_type": "code",
   "execution_count": 28,
   "metadata": {},
   "outputs": [],
   "source": [
    "# Generate all the folders if necessary\n",
    "for fol in [folder_base, folder_analysis, folder_ilastik,\n",
    "            folder_ome, folder_cp, folder_histocat, folder_uncertainty]:\n",
    "    if not os.path.exists(fol):\n",
    "        os.makedirs(fol)"
   ]
  },
  {
   "cell_type": "markdown",
   "metadata": {},
   "source": [
    "### Convert zipped IMC acquisitions to input format\n",
    "\n",
    "This script works with zipped IMC acquisitions:\n",
    "Each acquisition session = (1 mcd file) should be zipped in a folder containing:\n",
    "- The `.mcd` file\n",
    "- All associated `.txt` file generated during the acquisition of this `.mcd` file -> Don't change any of the filenames!!"
   ]
  },
  {
   "cell_type": "code",
   "execution_count": 29,
   "metadata": {},
   "outputs": [],
   "source": [
    "# Convert mcd containing folders into imc zip folders"
   ]
  },
  {
   "cell_type": "code",
   "execution_count": 31,
   "metadata": {},
   "outputs": [
    {
     "name": "stdout",
     "output_type": "stream",
     "text": [
      "../data/MCD file.zip\n",
      "CPU times: user 22.3 s, sys: 16.6 s, total: 38.8 s\n",
      "Wall time: 51.7 s\n"
     ]
    }
   ],
   "source": [
    "%%time\n",
    "failed_images = list()\n",
    "re_fn = re.compile(file_regexp)\n",
    "\n",
    "for fol in folders:\n",
    "    for fn in os.listdir(fol):\n",
    "        if re_fn.match(fn):\n",
    "            fn_full = os.path.join(fol, fn)\n",
    "            print(fn_full)\n",
    "            try:\n",
    "                convertfolder2imcfolder.convert_folder2imcfolder(fn_full, out_folder=folder_ome,\n",
    "                                                                   dozip=False)\n",
    "            except:\n",
    "                logging.exception('Error in {}'.format(fn_full))"
   ]
  },
  {
   "cell_type": "code",
   "execution_count": 32,
   "metadata": {},
   "outputs": [],
   "source": [
    "# Generate a csv with all the acquisition metadata\n",
    "exportacquisitioncsv.export_acquisition_csv(folder_ome, fol_out=folder_cp)"
   ]
  },
  {
   "cell_type": "code",
   "execution_count": 33,
   "metadata": {},
   "outputs": [],
   "source": [
    "# Convert ome.tiffs to a HistoCAT compatible format, e.g. to do some visualization and channel checking."
   ]
  },
  {
   "cell_type": "code",
   "execution_count": 34,
   "metadata": {},
   "outputs": [
    {
     "name": "stdout",
     "output_type": "stream",
     "text": [
      "CPU times: user 801 ms, sys: 1.34 s, total: 2.14 s\n",
      "Wall time: 2.6 s\n"
     ]
    }
   ],
   "source": [
    "%%time\n",
    "if not(os.path.exists(folder_histocat)):\n",
    "    os.makedirs(folder_histocat)\n",
    "for fol in os.listdir(folder_ome):\n",
    "    ome2micat.omefolder2micatfolder(os.path.join(folder_ome,fol), folder_histocat, dtype='uint16')\n"
   ]
  },
  {
   "cell_type": "code",
   "execution_count": 35,
   "metadata": {},
   "outputs": [],
   "source": [
    "# Generate the analysis stacks"
   ]
  },
  {
   "cell_type": "code",
   "execution_count": 36,
   "metadata": {},
   "outputs": [
    {
     "name": "stdout",
     "output_type": "stream",
     "text": [
      "20171228_spleen315_500x500_editedforFAS_s1_p9_r4_a4_ac.ome.tiff\n",
      "20171228_spleen315_500x500_editedforFAS_s1_p9_r18_a18_ac.ome.tiff\n",
      "20171228_spleen315_500x500_editedforFAS_s1_p9_r2_a2_ac.ome.tiff\n",
      "20171228_spleen315_500x500_editedforFAS_s1_p9_r8_a8_ac.ome.tiff\n",
      "20171228_spleen315_500x500_editedforFAS_s1_p9_r28_a28_ac.ome.tiff\n",
      "20171228_spleen315_500x500_editedforFAS_s1_p9_r6_a6_ac.ome.tiff\n",
      "20171228_spleen315_500x500_editedforFAS_s1_p9_r30_a30_ac.ome.tiff\n",
      "20171228_spleen315_500x500_editedforFAS_s1_p9_r32_a32_ac.ome.tiff\n",
      "20171228_spleen315_500x500_editedforFAS_s1_p9_r26_a26_ac.ome.tiff\n",
      "20171228_spleen315_500x500_editedforFAS_s1_p9_r12_a12_ac.ome.tiff\n",
      "20171228_spleen315_500x500_editedforFAS_s1_p9_r10_a10_ac.ome.tiff\n",
      "20171228_spleen315_500x500_editedforFAS_s1_p9_r24_a24_ac.ome.tiff\n",
      "20171228_spleen315_500x500_editedforFAS_s1_p9_r14_a14_ac.ome.tiff\n",
      "20171228_spleen315_500x500_editedforFAS_s1_p9_r20_a20_ac.ome.tiff\n",
      "20171228_spleen315_500x500_editedforFAS_s1_p9_r22_a22_ac.ome.tiff\n",
      "20171228_spleen315_500x500_editedforFAS_s1_p9_r16_a16_ac.ome.tiff\n",
      "CPU times: user 869 ms, sys: 2.42 s, total: 3.29 s\n",
      "Wall time: 3.84 s\n"
     ]
    }
   ],
   "source": [
    "%%time\n",
    "for fol in os.listdir(folder_ome):\n",
    "    sub_fol = os.path.join(folder_ome, fol)\n",
    "    for img in os.listdir(sub_fol):\n",
    "        if not img.endswith('.ome.tiff'):\n",
    "            continue\n",
    "        basename = img.rstrip('.ome.tiff')\n",
    "        print(img)\n",
    "        for (col, suffix, addsum) in list_analysis_stacks:\n",
    "            try:\n",
    "                ometiff2analysis.ometiff_2_analysis(os.path.join(sub_fol, img), folder_analysis,\n",
    "                                                basename + suffix, pannelcsv=csv_pannel, metalcolumn=csv_pannel_metal,\n",
    "                                                usedcolumn=col, addsum=addsum, bigtiff=False,\n",
    "                                               pixeltype='uint16')\n",
    "            except:\n",
    "                logging.exception('Error in {}'.format(img))\n",
    "            \n",
    "\n"
   ]
  },
  {
   "cell_type": "markdown",
   "metadata": {},
   "source": [
    "#### Potential errors\n",
    "If you see error messages here that relate to the metal or target names, then it is most likely there is a problem with the 'panel.csv' file. A key error can come about when one of the metal names is entered incorrectly. For example, having '141Pr' instead of 'Pr141'. Please check carefully, and see the troubleshooting section in the main workflow protocol (see link at the top of this script).\n",
    "\n",
    "\n",
    "Bodenmiller protocol original notes:\n",
    "\n",
    "An key-error here of the form:\n",
    "\n",
    "```\n",
    "line 91, in <listcomp> return [order_dict[m] for m in metallist] KeyError: 'Ru100'\n",
    "```\n",
    "\n",
    "Is an indication that the `panel.csv` contains a metal channel that was not actually measured in all or one of the acquisitions!\n",
    "Please check the images as well as the `panel.csv` to make sure that only channels are in the `panel.csv` that were actually measured."
   ]
  },
  {
   "cell_type": "markdown",
   "metadata": {},
   "source": [
    "## Next steps ------------------------------------------------------------------------------------\n",
    "\n",
    "Please visit https://wiki.centenary.org.au/x/kYBfCQ for the rest of the analysis workflow."
   ]
  }
 ],
 "metadata": {
  "kernelspec": {
   "display_name": "Python 3",
   "language": "python",
   "name": "python3"
  },
  "language_info": {
   "codemirror_mode": {
    "name": "ipython",
    "version": 3
   },
   "file_extension": ".py",
   "mimetype": "text/x-python",
   "name": "python",
   "nbconvert_exporter": "python",
   "pygments_lexer": "ipython3",
   "version": "3.6.6"
  }
 },
 "nbformat": 4,
 "nbformat_minor": 2
}
